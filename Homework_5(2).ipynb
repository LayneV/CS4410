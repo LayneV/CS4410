{
  "nbformat": 4,
  "nbformat_minor": 0,
  "metadata": {
    "colab": {
      "provenance": [],
      "authorship_tag": "ABX9TyMtn06O/YSfv7E1J7iJwRVK",
      "include_colab_link": true
    },
    "kernelspec": {
      "name": "python3",
      "display_name": "Python 3"
    },
    "language_info": {
      "name": "python"
    }
  },
  "cells": [
    {
      "cell_type": "markdown",
      "metadata": {
        "id": "view-in-github",
        "colab_type": "text"
      },
      "source": [
        "<a href=\"https://colab.research.google.com/github/LayneV/CS4410/blob/main/Homework_5(2).ipynb\" target=\"_parent\"><img src=\"https://colab.research.google.com/assets/colab-badge.svg\" alt=\"Open In Colab\"/></a>"
      ]
    },
    {
      "cell_type": "code",
      "execution_count": 11,
      "metadata": {
        "id": "3TA8sKLY7xwz"
      },
      "outputs": [],
      "source": [
        "from sklearn.decomposition import PCA\n",
        "from sklearn.preprocessing import StandardScaler\n",
        "from sklearn.linear_model import LogisticRegression\n",
        "from sklearn.metrics import accuracy_score\n",
        "from sklearn.datasets import fetch_openml\n",
        "from sklearn.model_selection import train_test_split\n",
        "import time\n"
      ]
    },
    {
      "cell_type": "code",
      "source": [
        "mnist = fetch_openml('mnist_784', parser='auto')"
      ],
      "metadata": {
        "id": "N1S6zjY88UDl"
      },
      "execution_count": 13,
      "outputs": []
    },
    {
      "cell_type": "code",
      "source": [
        "X, y = mnist.data, mnist.target\n",
        "X_train, X_test, y_train, y_test = train_test_split(X, y, test_size=0.2, random_state=42)\n"
      ],
      "metadata": {
        "id": "rF1j0bwoBy64"
      },
      "execution_count": 14,
      "outputs": []
    },
    {
      "cell_type": "code",
      "source": [
        "scaler = StandardScaler()\n",
        "X_train_scaled = scaler.fit_transform(X_train)\n",
        "X_test_scaled = scaler.transform(X_test)\n"
      ],
      "metadata": {
        "id": "GWDs45iEB1vP"
      },
      "execution_count": 15,
      "outputs": []
    },
    {
      "cell_type": "code",
      "source": [
        "start_time = time.time()\n",
        "logisticRegr = LogisticRegression(solver='lbfgs', max_iter=1000)\n",
        "logisticRegr.fit(X_train_scaled, y_train)\n",
        "y_pred = logisticRegr.predict(X_test_scaled)\n",
        "time_without_pca = time.time() - start_time\n",
        "accuracy_without_pca = accuracy_score(y_test, y_pred)"
      ],
      "metadata": {
        "id": "Wah-pqOYDNmw"
      },
      "execution_count": 16,
      "outputs": []
    },
    {
      "cell_type": "code",
      "source": [
        "pca = PCA(0.95)\n",
        "X_train_pca = pca.fit_transform(X_train_scaled)\n",
        "X_test_pca = pca.transform(X_test_scaled)"
      ],
      "metadata": {
        "id": "sVvRnTscDPne"
      },
      "execution_count": 17,
      "outputs": []
    },
    {
      "cell_type": "code",
      "source": [
        "start_time = time.time()\n",
        "logisticRegr.fit(X_train_pca, y_train)\n",
        "y_pred_pca = logisticRegr.predict(X_test_pca)\n",
        "time_with_pca = time.time() - start_time\n",
        "accuracy_with_pca = accuracy_score(y_test, y_pred_pca)"
      ],
      "metadata": {
        "id": "wZUrfVE6DU93"
      },
      "execution_count": 18,
      "outputs": []
    },
    {
      "cell_type": "code",
      "source": [
        "print(\"Accuracy without PCA: {:.2f}%\".format(accuracy_without_pca * 100))\n",
        "print(\"Time without PCA: {:.2f} seconds\".format(time_without_pca))\n",
        "print(\"Accuracy with PCA: {:.2f}%\".format(accuracy_with_pca * 100))\n",
        "print(\"Time with PCA: {:.2f} seconds\".format(time_with_pca))"
      ],
      "metadata": {
        "colab": {
          "base_uri": "https://localhost:8080/"
        },
        "id": "u8OV2m5cDWNp",
        "outputId": "df5668de-c0b9-411d-de2b-c793d61f2e2c"
      },
      "execution_count": 22,
      "outputs": [
        {
          "output_type": "stream",
          "name": "stdout",
          "text": [
            "Accuracy without PCA: 91.64%\n",
            "Time without PCA: 286.87 seconds\n",
            "Accuracy with PCA: 92.16%\n",
            "Time with PCA: 116.31 seconds\n"
          ]
        }
      ]
    }
  ]
}